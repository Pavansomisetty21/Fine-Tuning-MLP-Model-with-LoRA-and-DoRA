{
  "nbformat": 4,
  "nbformat_minor": 0,
  "metadata": {
    "colab": {
      "provenance": []
    },
    "kernelspec": {
      "name": "python3",
      "display_name": "Python 3"
    },
    "language_info": {
      "name": "python"
    }
  },
  "cells": [
    {
      "cell_type": "code",
      "execution_count": 1,
      "metadata": {
        "id": "I4bbbntcHJdI"
      },
      "outputs": [],
      "source": [
        "import time\n",
        "import numpy as np\n",
        "from torchvision import datasets\n",
        "from torchvision import transforms\n",
        "from torch.utils.data import DataLoader\n",
        "import torch.nn.functional as F\n",
        "import torch.nn as nn\n",
        "import torch\n",
        "\n",
        "\n",
        "if torch.cuda.is_available():\n",
        "    torch.backends.cudnn.deterministic = True"
      ]
    },
    {
      "cell_type": "markdown",
      "source": [
        "# Dataset"
      ],
      "metadata": {
        "id": "wOAA7z0qHytz"
      }
    },
    {
      "cell_type": "markdown",
      "source": [
        "####Data: CIFAR-10 images are more complex, with color and a wider variety of objects."
      ],
      "metadata": {
        "id": "Uq1qlUbzIlMm"
      }
    },
    {
      "cell_type": "code",
      "source": [
        "import torch\n",
        "from torch.utils.data import DataLoader\n",
        "from torchvision import datasets, transforms\n",
        "\n",
        "# Device\n",
        "DEVICE = torch.device(\"cuda\" if torch.cuda.is_available() else \"cpu\")\n",
        "BATCH_SIZE = 64\n",
        "\n",
        "### CIFAR-10 DATASET\n",
        "# Define transformations for the dataset (normalize and convert to tensor)\n",
        "transform = transforms.Compose([\n",
        "    transforms.ToTensor(),\n",
        "    transforms.Normalize((0.5, 0.5, 0.5), (0.5, 0.5, 0.5))  # Normalize to [-1, 1]\n",
        "])\n",
        "\n",
        "# Load the training and testing datasets\n",
        "train_dataset = datasets.CIFAR10(root='data',\n",
        "                                 train=True,\n",
        "                                 transform=transform,\n",
        "                                 download=True)\n",
        "\n",
        "test_dataset = datasets.CIFAR10(root='data',\n",
        "                                train=False,\n",
        "                                transform=transform)\n",
        "\n",
        "# Data loaders\n",
        "train_loader = DataLoader(dataset=train_dataset,\n",
        "                          batch_size=BATCH_SIZE,\n",
        "                          shuffle=True)\n",
        "\n",
        "test_loader = DataLoader(dataset=test_dataset,\n",
        "                         batch_size=BATCH_SIZE,\n",
        "                         shuffle=False)\n",
        "\n",
        "# Checking the dataset\n",
        "for images, labels in train_loader:\n",
        "    print('Image batch dimensions:', images.shape)\n",
        "    print('Image label dimensions:', labels.shape)\n",
        "    print('Labels:', labels[:10])  # Display the first 10 labels\n",
        "    break\n"
      ],
      "metadata": {
        "colab": {
          "base_uri": "https://localhost:8080/"
        },
        "id": "u2v7mfyaHcHd",
        "outputId": "9945dcfa-c8f2-4942-d772-f2b02ad9ed8a"
      },
      "execution_count": 44,
      "outputs": [
        {
          "output_type": "stream",
          "name": "stdout",
          "text": [
            "Files already downloaded and verified\n",
            "Image batch dimensions: torch.Size([64, 3, 32, 32])\n",
            "Image label dimensions: torch.Size([64])\n",
            "Labels: tensor([0, 1, 2, 5, 3, 6, 7, 3, 9, 9])\n"
          ]
        }
      ]
    },
    {
      "cell_type": "code",
      "source": [
        "from torchvision import datasets, transforms\n",
        "import matplotlib.pyplot as plt\n",
        "import numpy as np\n",
        "import torchvision\n",
        "# Classes in CIFAR-10\n",
        "classes = train_dataset.classes\n",
        "\n",
        "# Function to unnormalize and display images\n",
        "def imshow(img):\n",
        "    img = img / 1.5+ 0.5  # Denormalize the image\n",
        "    npimg = img.numpy()  # Convert to numpy\n",
        "    plt.imshow(np.transpose(npimg, (1, 2, 0)))  # Rearrange dimensions for plotting\n",
        "    plt.show()\n",
        "\n",
        "# Get a batch of images\n",
        "data_iter = iter(train_loader)\n",
        "images, labels = next(data_iter)\n",
        "\n",
        "# Show images\n",
        "print(\"Labels:\", [classes[label] for label in labels[:8]])  # Show the first 8 labels\n",
        "imshow(torchvision.utils.make_grid(images[:8]))  # Show the first 8 images"
      ],
      "metadata": {
        "colab": {
          "base_uri": "https://localhost:8080/",
          "height": 165
        },
        "id": "t79lu3DuIBb7",
        "outputId": "98654015-3f39-4675-9c74-73faaae9edf4"
      },
      "execution_count": 45,
      "outputs": [
        {
          "output_type": "stream",
          "name": "stderr",
          "text": [
            "WARNING:matplotlib.image:Clipping input data to the valid range for imshow with RGB data ([0..1] for floats or [0..255] for integers).\n"
          ]
        },
        {
          "output_type": "stream",
          "name": "stdout",
          "text": [
            "Labels: ['truck', 'dog', 'airplane', 'dog', 'deer', 'frog', 'horse', 'truck']\n"
          ]
        },
        {
          "output_type": "display_data",
          "data": {
            "text/plain": [
              "<Figure size 640x480 with 1 Axes>"
            ],
            "image/png": "[encoded data removed]"
          },
          "metadata": {}
        }
      ]
    },
    {
      "cell_type": "markdown",
      "source": [
        "#Multilayer Perceptron Model (Without LoRA and DoRA)"
      ],
      "metadata": {
        "id": "bBJTGqn_J4dR"
      }
    },
    {
      "cell_type": "code",
      "source": [
        "import torch\n",
        "import torch.nn as nn\n",
        "import torch.nn.functional as F\n",
        "import time\n",
        "\n",
        "# Hyperparameters\n",
        "random_seed = 123\n",
        "learning_rate = 0.005\n",
        "num_epochs = 2\n",
        "num_features = 32 * 32 * 3  # CIFAR-10 image size\n",
        "num_hidden_1 = 128\n",
        "num_hidden_2 = 256\n",
        "num_classes = 10\n",
        "\n",
        "# Define the model\n",
        "class MultilayerPerceptron(nn.Module):\n",
        "    def __init__(self, num_features, num_hidden_1, num_hidden_2, num_classes):\n",
        "        super().__init__()\n",
        "        self.layers = nn.Sequential(\n",
        "            nn.Linear(num_features, num_hidden_1),\n",
        "            nn.ReLU(),\n",
        "            nn.Linear(num_hidden_1, num_hidden_2),\n",
        "            nn.ReLU(),\n",
        "            nn.Linear(num_hidden_2, num_classes)\n",
        "        )\n",
        "\n",
        "    def forward(self, x):\n",
        "        x = self.layers(x)\n",
        "        return x\n",
        "\n",
        "\n",
        "# Initialize model and optimizer\n",
        "torch.manual_seed(random_seed)\n",
        "model_pretrained = MultilayerPerceptron(\n",
        "    num_features=num_features,\n",
        "    num_hidden_1=num_hidden_1,\n",
        "    num_hidden_2=num_hidden_2,\n",
        "    num_classes=num_classes\n",
        ").to(DEVICE)\n",
        "\n",
        "optimizer_pretrained = torch.optim.Adam(model_pretrained.parameters(), lr=learning_rate)\n"
      ],
      "metadata": {
        "id": "OYAaSHH6JDRb"
      },
      "execution_count": 53,
      "outputs": []
    },
    {
      "cell_type": "code",
      "source": [
        "# Functions for training and accuracy computation\n",
        "def compute_accuracy(model, data_loader, device):\n",
        "    model.eval()\n",
        "    correct_pred, num_examples = 0, 0\n",
        "    with torch.no_grad():\n",
        "        for features, targets in data_loader:\n",
        "            features = features.view(-1, 32*32*3).to(device)  # Updated reshape\n",
        "            targets = targets.to(device)\n",
        "            logits = model(features)\n",
        "            _, predicted_labels = torch.max(logits, 1)\n",
        "            num_examples += targets.size(0)\n",
        "            correct_pred += (predicted_labels == targets).sum()\n",
        "    return correct_pred.float() / num_examples * 100\n",
        "\n"
      ],
      "metadata": {
        "id": "N-A0kfqxO5C4"
      },
      "execution_count": 54,
      "outputs": []
    },
    {
      "cell_type": "code",
      "source": [
        "\n",
        "def train(num_epochs, model, optimizer, train_loader, device):\n",
        "    start_time = time.time()\n",
        "    for epoch in range(num_epochs):\n",
        "        model.train()\n",
        "        for batch_idx, (features, targets) in enumerate(train_loader):\n",
        "            features = features.view(-1, 32*32*3).to(device)  # Updated reshape\n",
        "            targets = targets.to(device)\n",
        "\n",
        "            # Forward and backpropagation\n",
        "            logits = model(features)\n",
        "            loss = F.cross_entropy(logits, targets)\n",
        "            optimizer.zero_grad()\n",
        "            loss.backward()\n",
        "            optimizer.step()\n",
        "\n",
        "            # Logging\n",
        "            if not batch_idx % 400:\n",
        "                print('Epoch: %03d/%03d | Batch %03d/%03d | Loss: %.4f'\n",
        "                      % (epoch+1, num_epochs, batch_idx, len(train_loader), loss))\n",
        "\n",
        "        # Compute training accuracy\n",
        "        with torch.set_grad_enabled(False):\n",
        "            print('Epoch: %03d/%03d training accuracy: %.2f%%' % (\n",
        "                epoch+1, num_epochs,\n",
        "                compute_accuracy(model, train_loader, device)))\n",
        "\n",
        "        print('Time elapsed: %.2f min' % ((time.time() - start_time) / 60))\n",
        "\n",
        "    print('Total Training Time: %.2f min' % ((time.time() - start_time) / 60))\n",
        "\n"
      ],
      "metadata": {
        "id": "nEo6JURvJ-Om"
      },
      "execution_count": 55,
      "outputs": []
    },
    {
      "cell_type": "code",
      "source": [
        "\n",
        "# Train the model\n",
        "train(num_epochs, model_pretrained, optimizer_pretrained, train_loader, DEVICE)\n",
        "print(f'Test accuracy: {compute_accuracy(model_pretrained, test_loader, DEVICE):.2f}%')"
      ],
      "metadata": {
        "colab": {
          "base_uri": "https://localhost:8080/"
        },
        "id": "PgVyFOU_KDzu",
        "outputId": "ac38b2f2-a60e-4508-9c75-f0c4d2d59f8d"
      },
      "execution_count": 56,
      "outputs": [
        {
          "output_type": "stream",
          "name": "stdout",
          "text": [
            "Epoch: 001/002 | Batch 000/782 | Loss: 2.2997\n",
            "Epoch: 001/002 | Batch 400/782 | Loss: 1.4952\n",
            "Epoch: 001/002 training accuracy: 41.07%\n",
            "Time elapsed: 0.59 min\n",
            "Epoch: 002/002 | Batch 000/782 | Loss: 1.7209\n",
            "Epoch: 002/002 | Batch 400/782 | Loss: 1.6466\n",
            "Epoch: 002/002 training accuracy: 46.36%\n",
            "Time elapsed: 1.19 min\n",
            "Total Training Time: 1.19 min\n",
            "Test accuracy: 44.49%\n"
          ]
        }
      ]
    },
    {
      "cell_type": "markdown",
      "source": [
        "#Multilayer Perceptron with LoRA and DoRA\n",
        "##Modify model by injecting LoRA and DoRA layers"
      ],
      "metadata": {
        "id": "qAlp4lYHLyi4"
      }
    },
    {
      "cell_type": "code",
      "source": [
        "class LoRALayer(nn.Module):\n",
        "    def __init__(self, in_dim, out_dim, rank, alpha):\n",
        "        super().__init__()\n",
        "        std_dev = 1 / torch.sqrt(torch.tensor(rank).float())\n",
        "        self.A = nn.Parameter(torch.randn(in_dim, rank) * std_dev)\n",
        "        self.B = nn.Parameter(torch.zeros(rank, out_dim))\n",
        "        self.alpha = alpha\n",
        "\n",
        "    def forward(self, x):\n",
        "        x = self.alpha * (x @ self.A @ self.B)\n",
        "        return x\n",
        "\n",
        "\n",
        "# This LoRA code is equivalent to LinearWithLoRA\n",
        "class LinearWithLoRAMerged(nn.Module):\n",
        "    def __init__(self, linear, rank, alpha):\n",
        "        super().__init__()\n",
        "        self.linear = linear\n",
        "        self.lora = LoRALayer(\n",
        "            linear.in_features, linear.out_features, rank, alpha\n",
        "        )\n",
        "\n",
        "    def forward(self, x):\n",
        "        lora = self.lora.A @ self.lora.B\n",
        "        combined_weight = self.linear.weight + self.lora.alpha*lora.T\n",
        "        return F.linear(x, combined_weight, self.linear.bias)\n",
        "\n",
        "\n",
        "# This DoRA code is equivalent to LinearWithDoRA\n",
        "# Code inspired by https://github.com/catid/dora/blob/main/dora.py\n",
        "class LinearWithDoRAMerged(nn.Module):\n",
        "    def __init__(self, linear, rank, alpha):\n",
        "        super().__init__()\n",
        "        self.linear = linear\n",
        "        self.lora = LoRALayer(\n",
        "            linear.in_features, linear.out_features, rank, alpha\n",
        "        )\n",
        "\n",
        "        self.m = nn.Parameter(\n",
        "            self.linear.weight.norm(p=2, dim=0, keepdim=True))\n",
        "\n",
        "    def forward(self, x):\n",
        "        lora = self.lora.A @ self.lora.B\n",
        "        numerator = self.linear.weight + self.lora.alpha*lora.T\n",
        "        denominator = numerator.norm(p=2, dim=0, keepdim=True)\n",
        "        directional_component = numerator / denominator\n",
        "        new_weight = self.m * directional_component\n",
        "        return F.linear(x, new_weight, self.linear.bias)"
      ],
      "metadata": {
        "id": "tu9oX_ExLUPr"
      },
      "execution_count": 57,
      "outputs": []
    },
    {
      "cell_type": "code",
      "source": [
        "torch.manual_seed(123)\n",
        "\n",
        "layer = nn.Linear(10, 2)\n",
        "x = torch.randn((1, 10))\n",
        "\n",
        "print(\"Original output:\", layer(x))"
      ],
      "metadata": {
        "colab": {
          "base_uri": "https://localhost:8080/"
        },
        "id": "9FN2-bdWL8l-",
        "outputId": "8b29af89-efb9-4cd5-f359-4a3614adb77c"
      },
      "execution_count": 58,
      "outputs": [
        {
          "output_type": "stream",
          "name": "stdout",
          "text": [
            "Original output: tensor([[0.6639, 0.4487]], grad_fn=<AddmmBackward0>)\n"
          ]
        }
      ]
    },
    {
      "cell_type": "code",
      "source": [
        "layer_lora_2 = LinearWithLoRAMerged(layer, rank=2, alpha=4)\n",
        "print(\"LoRA output:\", layer_lora_2(x))"
      ],
      "metadata": {
        "colab": {
          "base_uri": "https://localhost:8080/"
        },
        "id": "3AqqcUatMAHx",
        "outputId": "431c2f25-817b-4696-b999-a839b15e019d"
      },
      "execution_count": 59,
      "outputs": [
        {
          "output_type": "stream",
          "name": "stdout",
          "text": [
            "LoRA output: tensor([[0.6639, 0.4487]], grad_fn=<AddmmBackward0>)\n"
          ]
        }
      ]
    },
    {
      "cell_type": "code",
      "source": [
        "layer_dora_2 = LinearWithDoRAMerged(layer, rank=2, alpha=4)\n",
        "\n",
        "print(\"DoRA output:\", layer_dora_2(x))"
      ],
      "metadata": {
        "colab": {
          "base_uri": "https://localhost:8080/"
        },
        "id": "xhZcGhy-MDgd",
        "outputId": "1a7d953e-01ee-474d-839b-f0f202a70675"
      },
      "execution_count": 60,
      "outputs": [
        {
          "output_type": "stream",
          "name": "stdout",
          "text": [
            "DoRA output: tensor([[0.6639, 0.4487]], grad_fn=<AddmmBackward0>)\n"
          ]
        }
      ]
    },
    {
      "cell_type": "code",
      "source": [
        "model_pretrained"
      ],
      "metadata": {
        "colab": {
          "base_uri": "https://localhost:8080/"
        },
        "id": "cmo2kPiRMIUL",
        "outputId": "fbef1235-5598-4ceb-d15b-accb74a285b4"
      },
      "execution_count": 61,
      "outputs": [
        {
          "output_type": "execute_result",
          "data": {
            "text/plain": [
              "MultilayerPerceptron(\n",
              "  (layers): Sequential(\n",
              "    (0): Linear(in_features=3072, out_features=128, bias=True)\n",
              "    (1): ReLU()\n",
              "    (2): Linear(in_features=128, out_features=256, bias=True)\n",
              "    (3): ReLU()\n",
              "    (4): Linear(in_features=256, out_features=10, bias=True)\n",
              "  )\n",
              ")"
            ]
          },
          "metadata": {},
          "execution_count": 61
        }
      ]
    },
    {
      "cell_type": "code",
      "source": [
        "import copy\n",
        "\n",
        "model_lora = copy.deepcopy(model_pretrained)\n",
        "model_dora = copy.deepcopy(model_pretrained)"
      ],
      "metadata": {
        "id": "K81x4IudMN6K"
      },
      "execution_count": 62,
      "outputs": []
    },
    {
      "cell_type": "code",
      "source": [
        "model_lora.layers[0] = LinearWithLoRAMerged(model_lora.layers[0], rank=4, alpha=8)\n",
        "model_lora.layers[2] = LinearWithLoRAMerged(model_lora.layers[2], rank=4, alpha=8)\n",
        "model_lora.layers[4] = LinearWithLoRAMerged(model_lora.layers[4], rank=4, alpha=8)\n",
        "\n",
        "model_lora.to(DEVICE)\n",
        "optimizer_lora = torch.optim.Adam(model_lora.parameters(), lr=learning_rate)\n",
        "model_lora"
      ],
      "metadata": {
        "colab": {
          "base_uri": "https://localhost:8080/"
        },
        "id": "t5RmCTN0MSNi",
        "outputId": "0a8c9927-f185-4c28-f99d-5fd0c5fc17c7"
      },
      "execution_count": 63,
      "outputs": [
        {
          "output_type": "execute_result",
          "data": {
            "text/plain": [
              "MultilayerPerceptron(\n",
              "  (layers): Sequential(\n",
              "    (0): LinearWithLoRAMerged(\n",
              "      (linear): Linear(in_features=3072, out_features=128, bias=True)\n",
              "      (lora): LoRALayer()\n",
              "    )\n",
              "    (1): ReLU()\n",
              "    (2): LinearWithLoRAMerged(\n",
              "      (linear): Linear(in_features=128, out_features=256, bias=True)\n",
              "      (lora): LoRALayer()\n",
              "    )\n",
              "    (3): ReLU()\n",
              "    (4): LinearWithLoRAMerged(\n",
              "      (linear): Linear(in_features=256, out_features=10, bias=True)\n",
              "      (lora): LoRALayer()\n",
              "    )\n",
              "  )\n",
              ")"
            ]
          },
          "metadata": {},
          "execution_count": 63
        }
      ]
    },
    {
      "cell_type": "code",
      "source": [
        "model_dora.layers[0] = LinearWithDoRAMerged(model_dora.layers[0], rank=4, alpha=8)\n",
        "model_dora.layers[2] = LinearWithDoRAMerged(model_dora.layers[2], rank=4, alpha=8)\n",
        "model_dora.layers[4] = LinearWithDoRAMerged(model_dora.layers[4], rank=4, alpha=8)\n",
        "\n",
        "model_dora.to(DEVICE)\n",
        "optimizer_dora = torch.optim.Adam(model_dora.parameters(), lr=learning_rate)\n",
        "model_dora"
      ],
      "metadata": {
        "colab": {
          "base_uri": "https://localhost:8080/"
        },
        "id": "8lu7zDnvMWpz",
        "outputId": "ed5b2522-abc0-4539-ab48-3cc9510b301f"
      },
      "execution_count": 64,
      "outputs": [
        {
          "output_type": "execute_result",
          "data": {
            "text/plain": [
              "MultilayerPerceptron(\n",
              "  (layers): Sequential(\n",
              "    (0): LinearWithDoRAMerged(\n",
              "      (linear): Linear(in_features=3072, out_features=128, bias=True)\n",
              "      (lora): LoRALayer()\n",
              "    )\n",
              "    (1): ReLU()\n",
              "    (2): LinearWithDoRAMerged(\n",
              "      (linear): Linear(in_features=128, out_features=256, bias=True)\n",
              "      (lora): LoRALayer()\n",
              "    )\n",
              "    (3): ReLU()\n",
              "    (4): LinearWithDoRAMerged(\n",
              "      (linear): Linear(in_features=256, out_features=10, bias=True)\n",
              "      (lora): LoRALayer()\n",
              "    )\n",
              "  )\n",
              ")"
            ]
          },
          "metadata": {},
          "execution_count": 64
        }
      ]
    },
    {
      "cell_type": "code",
      "source": [
        "print(f'Test accuracy orig model: {compute_accuracy(model_pretrained, test_loader, DEVICE):.2f}%')\n",
        "print(f'Test accuracy LoRA model: {compute_accuracy(model_lora, test_loader, DEVICE):.2f}%')\n",
        "print(f'Test accuracy DoRA model: {compute_accuracy(model_dora, test_loader, DEVICE):.2f}%')"
      ],
      "metadata": {
        "colab": {
          "base_uri": "https://localhost:8080/"
        },
        "id": "ZLLWQDY8MaZN",
        "outputId": "beee373f-2986-4cda-f87f-170475d97b02"
      },
      "execution_count": 65,
      "outputs": [
        {
          "output_type": "stream",
          "name": "stdout",
          "text": [
            "Test accuracy orig model: 44.49%\n",
            "Test accuracy LoRA model: 44.49%\n",
            "Test accuracy DoRA model: 44.49%\n"
          ]
        }
      ]
    },
    {
      "cell_type": "markdown",
      "source": [
        "#Train model with LoRA"
      ],
      "metadata": {
        "id": "33csAexoPhCl"
      }
    },
    {
      "cell_type": "code",
      "source": [
        "def freeze_linear_layers(model):\n",
        "    for child in model.children():\n",
        "        if isinstance(child, nn.Linear):\n",
        "            for param in child.parameters():\n",
        "                param.requires_grad = False\n",
        "        else:\n",
        "            # Recursively freeze linear layers in children modules\n",
        "            freeze_linear_layers(child)"
      ],
      "metadata": {
        "id": "D_9rpRA-PbVy"
      },
      "execution_count": 66,
      "outputs": []
    },
    {
      "cell_type": "code",
      "source": [
        "freeze_linear_layers(model_lora)\n",
        "\n",
        "# Check if linear layers are frozen\n",
        "for name, param in model_lora.named_parameters():\n",
        "    print(f\"{name}: {param.requires_grad}\")"
      ],
      "metadata": {
        "colab": {
          "base_uri": "https://localhost:8080/"
        },
        "id": "U5pHd396Pkdl",
        "outputId": "85c76e6f-f7a8-4c38-e264-97b9162e866d"
      },
      "execution_count": 67,
      "outputs": [
        {
          "output_type": "stream",
          "name": "stdout",
          "text": [
            "layers.0.linear.weight: False\n",
            "layers.0.linear.bias: False\n",
            "layers.0.lora.A: True\n",
            "layers.0.lora.B: True\n",
            "layers.2.linear.weight: False\n",
            "layers.2.linear.bias: False\n",
            "layers.2.lora.A: True\n",
            "layers.2.lora.B: True\n",
            "layers.4.linear.weight: False\n",
            "layers.4.linear.bias: False\n",
            "layers.4.lora.A: True\n",
            "layers.4.lora.B: True\n"
          ]
        }
      ]
    },
    {
      "cell_type": "code",
      "source": [
        "# Increase the number of epochs\n",
        "num_epochs = 10  # Change this value to the desired number of epochs\n",
        "\n",
        "# Define the optimizer\n",
        "optimizer_lora = torch.optim.Adam(model_lora.parameters(), lr=learning_rate)\n",
        "\n",
        "# Train the model with the increased number of epochs\n",
        "train(num_epochs, model_lora, optimizer_lora, train_loader, DEVICE)\n",
        "\n",
        "# Evaluate and print the test accuracy\n",
        "print(f'Test accuracy LoRA finetune: {compute_accuracy(model_lora, test_loader, DEVICE):.2f}%')\n"
      ],
      "metadata": {
        "colab": {
          "base_uri": "https://localhost:8080/"
        },
        "id": "VW7XrA6dPoaC",
        "outputId": "11f70de9-7e9e-4502-8113-b03deff40136"
      },
      "execution_count": 71,
      "outputs": [
        {
          "output_type": "stream",
          "name": "stdout",
          "text": [
            "Epoch: 001/010 | Batch 000/782 | Loss: 1.6575\n",
            "Epoch: 001/010 | Batch 400/782 | Loss: 1.9379\n",
            "Epoch: 001/010 training accuracy: 48.06%\n",
            "Time elapsed: 0.67 min\n",
            "Epoch: 002/010 | Batch 000/782 | Loss: 1.5562\n",
            "Epoch: 002/010 | Batch 400/782 | Loss: 1.4391\n",
            "Epoch: 002/010 training accuracy: 47.60%\n",
            "Time elapsed: 1.32 min\n",
            "Epoch: 003/010 | Batch 000/782 | Loss: 1.5795\n",
            "Epoch: 003/010 | Batch 400/782 | Loss: 1.5634\n",
            "Epoch: 003/010 training accuracy: 48.30%\n",
            "Time elapsed: 1.97 min\n",
            "Epoch: 004/010 | Batch 000/782 | Loss: 1.5198\n",
            "Epoch: 004/010 | Batch 400/782 | Loss: 1.3570\n",
            "Epoch: 004/010 training accuracy: 48.60%\n",
            "Time elapsed: 2.61 min\n",
            "Epoch: 005/010 | Batch 000/782 | Loss: 1.4939\n",
            "Epoch: 005/010 | Batch 400/782 | Loss: 1.4624\n",
            "Epoch: 005/010 training accuracy: 48.54%\n",
            "Time elapsed: 3.25 min\n",
            "Epoch: 006/010 | Batch 000/782 | Loss: 1.2694\n",
            "Epoch: 006/010 | Batch 400/782 | Loss: 1.6552\n",
            "Epoch: 006/010 training accuracy: 48.35%\n",
            "Time elapsed: 3.90 min\n",
            "Epoch: 007/010 | Batch 000/782 | Loss: 1.2883\n",
            "Epoch: 007/010 | Batch 400/782 | Loss: 1.3278\n",
            "Epoch: 007/010 training accuracy: 49.01%\n",
            "Time elapsed: 4.55 min\n",
            "Epoch: 008/010 | Batch 000/782 | Loss: 1.3761\n",
            "Epoch: 008/010 | Batch 400/782 | Loss: 1.5300\n",
            "Epoch: 008/010 training accuracy: 49.05%\n",
            "Time elapsed: 5.19 min\n",
            "Epoch: 009/010 | Batch 000/782 | Loss: 1.5049\n",
            "Epoch: 009/010 | Batch 400/782 | Loss: 1.3278\n",
            "Epoch: 009/010 training accuracy: 49.18%\n",
            "Time elapsed: 5.85 min\n",
            "Epoch: 010/010 | Batch 000/782 | Loss: 1.3371\n",
            "Epoch: 010/010 | Batch 400/782 | Loss: 1.3553\n",
            "Epoch: 010/010 training accuracy: 49.09%\n",
            "Time elapsed: 6.51 min\n",
            "Total Training Time: 6.51 min\n",
            "Test accuracy LoRA finetune: 46.38%\n"
          ]
        }
      ]
    },
    {
      "cell_type": "markdown",
      "source": [
        "#Train model with DoRA"
      ],
      "metadata": {
        "id": "yBV0uPs2QKC8"
      }
    },
    {
      "cell_type": "code",
      "source": [
        "freeze_linear_layers(model_dora)\n",
        "\n",
        "# Check if linear layers are frozen\n",
        "for name, param in model_dora.named_parameters():\n",
        "    print(f\"{name}: {param.requires_grad}\")"
      ],
      "metadata": {
        "colab": {
          "base_uri": "https://localhost:8080/"
        },
        "id": "sX69dljIPrjj",
        "outputId": "74adf92b-b875-48b2-d817-5107ed40fff8"
      },
      "execution_count": 74,
      "outputs": [
        {
          "output_type": "stream",
          "name": "stdout",
          "text": [
            "layers.0.m: True\n",
            "layers.0.linear.weight: False\n",
            "layers.0.linear.bias: False\n",
            "layers.0.lora.A: True\n",
            "layers.0.lora.B: True\n",
            "layers.2.m: True\n",
            "layers.2.linear.weight: False\n",
            "layers.2.linear.bias: False\n",
            "layers.2.lora.A: True\n",
            "layers.2.lora.B: True\n",
            "layers.4.m: True\n",
            "layers.4.linear.weight: False\n",
            "layers.4.linear.bias: False\n",
            "layers.4.lora.A: True\n",
            "layers.4.lora.B: True\n"
          ]
        }
      ]
    },
    {
      "cell_type": "code",
      "source": [
        "# Increase the number of epochs\n",
        "num_epochs = 10  # Change this value to the desired number of epochs\n",
        "\n",
        "# Define the optimizer\n",
        "optimizer_dora = torch.optim.Adam(model_dora.parameters(), lr=learning_rate)\n",
        "\n",
        "# Train the model with the increased number of epochs\n",
        "train(num_epochs, model_dora, optimizer_dora, train_loader, DEVICE)\n",
        "\n",
        "# Evaluate and print the test accuracy\n",
        "print(f'Test accuracy DoRA finetune: {compute_accuracy(model_dora, test_loader, DEVICE):.2f}%')"
      ],
      "metadata": {
        "colab": {
          "base_uri": "https://localhost:8080/"
        },
        "id": "TS96SwAnQNZv",
        "outputId": "1cfdf553-81ee-4047-e43d-5e510265f879"
      },
      "execution_count": 75,
      "outputs": [
        {
          "output_type": "stream",
          "name": "stdout",
          "text": [
            "Epoch: 001/010 | Batch 000/782 | Loss: 1.3966\n",
            "Epoch: 001/010 | Batch 400/782 | Loss: 1.4264\n",
            "Epoch: 001/010 training accuracy: 47.52%\n",
            "Time elapsed: 0.79 min\n",
            "Epoch: 002/010 | Batch 000/782 | Loss: 1.5797\n",
            "Epoch: 002/010 | Batch 400/782 | Loss: 1.3714\n",
            "Epoch: 002/010 training accuracy: 47.78%\n",
            "Time elapsed: 1.55 min\n",
            "Epoch: 003/010 | Batch 000/782 | Loss: 1.4359\n",
            "Epoch: 003/010 | Batch 400/782 | Loss: 1.4095\n",
            "Epoch: 003/010 training accuracy: 48.48%\n",
            "Time elapsed: 2.31 min\n",
            "Epoch: 004/010 | Batch 000/782 | Loss: 1.5914\n",
            "Epoch: 004/010 | Batch 400/782 | Loss: 1.1686\n",
            "Epoch: 004/010 training accuracy: 48.40%\n",
            "Time elapsed: 3.19 min\n",
            "Epoch: 005/010 | Batch 000/782 | Loss: 1.3555\n",
            "Epoch: 005/010 | Batch 400/782 | Loss: 1.2816\n",
            "Epoch: 005/010 training accuracy: 50.24%\n",
            "Time elapsed: 3.98 min\n",
            "Epoch: 006/010 | Batch 000/782 | Loss: 1.5241\n",
            "Epoch: 006/010 | Batch 400/782 | Loss: 1.4719\n",
            "Epoch: 006/010 training accuracy: 49.40%\n",
            "Time elapsed: 4.75 min\n",
            "Epoch: 007/010 | Batch 000/782 | Loss: 1.3198\n",
            "Epoch: 007/010 | Batch 400/782 | Loss: 1.4232\n",
            "Epoch: 007/010 training accuracy: 50.30%\n",
            "Time elapsed: 5.51 min\n",
            "Epoch: 008/010 | Batch 000/782 | Loss: 1.1680\n",
            "Epoch: 008/010 | Batch 400/782 | Loss: 1.5205\n",
            "Epoch: 008/010 training accuracy: 49.45%\n",
            "Time elapsed: 6.28 min\n",
            "Epoch: 009/010 | Batch 000/782 | Loss: 1.5137\n",
            "Epoch: 009/010 | Batch 400/782 | Loss: 1.5902\n",
            "Epoch: 009/010 training accuracy: 50.23%\n",
            "Time elapsed: 7.04 min\n",
            "Epoch: 010/010 | Batch 000/782 | Loss: 1.3873\n",
            "Epoch: 010/010 | Batch 400/782 | Loss: 1.3718\n",
            "Epoch: 010/010 training accuracy: 50.51%\n",
            "Time elapsed: 7.81 min\n",
            "Total Training Time: 7.81 min\n",
            "Test accuracy DoRA finetune: 47.51%\n"
          ]
        }
      ]
    },
    {
      "cell_type": "code",
      "source": [
        "print(f'Test accuracy orig model: {compute_accuracy(model_pretrained, test_loader, DEVICE):.2f}%')\n",
        "\n",
        "print(f'Test accuracy LoRA finetune: {compute_accuracy(model_lora, test_loader, DEVICE):.2f}%')\n",
        "print(f'Test accuracy DoRA finetune: {compute_accuracy(model_dora, test_loader, DEVICE):.2f}%')\n"
      ],
      "metadata": {
        "colab": {
          "base_uri": "https://localhost:8080/"
        },
        "id": "mMcMlV80QRKg",
        "outputId": "86b7dd3d-8523-4124-9a77-ef57a63cdffd"
      },
      "execution_count": 77,
      "outputs": [
        {
          "output_type": "stream",
          "name": "stdout",
          "text": [
            "Test accuracy orig model: 44.49%\n",
            "Test accuracy LoRA finetune: 46.38%\n",
            "Test accuracy DoRA finetune: 47.51%\n"
          ]
        }
      ]
    },
    {
      "cell_type": "code",
      "source": [],
      "metadata": {
        "id": "RvSAhX9YVkat"
      },
      "execution_count": null,
      "outputs": []
    }
  ]
}